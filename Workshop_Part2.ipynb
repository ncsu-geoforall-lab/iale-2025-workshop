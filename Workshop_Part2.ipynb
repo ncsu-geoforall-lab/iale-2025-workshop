{
 "cells": [
  {
   "cell_type": "markdown",
   "id": "ed65aa46-40dc-4ca0-b768-8f513a8bb70b",
   "metadata": {},
   "source": [
    "# Basic Terrain Analysis in GRASS GIS\n",
    "\n",
    "#### _Caitlin Haedrich and Anna Petrasova_\n"
   ]
  },
  {
   "cell_type": "markdown",
   "id": "bc200977-20f3-48eb-971c-be3c23bfc230",
   "metadata": {},
   "source": [
    "## 1. Start GRASS GIS"
   ]
  },
  {
   "cell_type": "code",
   "execution_count": null,
   "id": "c6680ce8-8b69-4d82-99de-85efe8683722",
   "metadata": {},
   "outputs": [],
   "source": [
    "# import standard Python packages\n",
    "import os\n",
    "import sys\n",
    "import subprocess\n",
    "from pathlib import Path"
   ]
  },
  {
   "cell_type": "code",
   "execution_count": null,
   "id": "548f7485-6393-4b19-aff8-ab853e17a14d",
   "metadata": {},
   "outputs": [],
   "source": [
    "# check where GRASS GIS python packages are and add them to PATH\n",
    "sys.path.append(\n",
    "    subprocess.check_output([\"grass\", \"--config\", \"python_path\"], text=True).strip()\n",
    ")"
   ]
  },
  {
   "cell_type": "code",
   "execution_count": null,
   "id": "286f0a97-8165-4faa-bee3-e7ea0e601e31",
   "metadata": {},
   "outputs": [],
   "source": [
    "# import GRASS GIS python packages\n",
    "import grass.script as gs\n",
    "import grass.jupyter as gj"
   ]
  },
  {
   "cell_type": "code",
   "execution_count": null,
   "id": "cd237c6b-2667-4294-bff6-5964db764652",
   "metadata": {},
   "outputs": [],
   "source": [
    "gj.init(\"./studyarea\");"
   ]
  },
  {
   "cell_type": "markdown",
   "id": "f19c4861-7f09-4919-9773-3402f944f1bb",
   "metadata": {},
   "source": [
    "We've launched GRASS GIS now! We can access GRASS GIS commands using the command line interface (with the ! line magic):"
   ]
  },
  {
   "cell_type": "code",
   "execution_count": null,
   "id": "8881cf18-e6d5-4b85-a50c-69fa4a6ed020",
   "metadata": {},
   "outputs": [],
   "source": [
    "!g.version\n",
    "!g.region -p"
   ]
  },
  {
   "cell_type": "markdown",
   "id": "cd3216bf-f942-4526-8881-b33f30e4c66a",
   "metadata": {},
   "source": [
    "## 2. Import Data"
   ]
  },
  {
   "cell_type": "code",
   "execution_count": null,
   "id": "584d83b0-deb4-4b5e-a1a8-dd31684a3f21",
   "metadata": {},
   "outputs": [],
   "source": []
  },
  {
   "cell_type": "code",
   "execution_count": null,
   "id": "87a946fb-656a-4840-a8ff-65d96da51be0",
   "metadata": {},
   "outputs": [],
   "source": [
    "Start GRASS in empty project\n",
    "Import data from cloud (i.e. r.in.usgs): Headwaters of stocking head creek (Caitlin to provide coordinates), Umstead, other…\n",
    "Display downloaded data\n",
    "r.slope.aspect example of tool execution\n",
    "r.geomorphons\n",
    "r.sun\n",
    "Hydrology Examples:\n",
    "Simple r.lake\n",
    "Upstream contributing area (r.watershed, r.stream.snap, r.water.outlet)\n"
   ]
  },
  {
   "cell_type": "markdown",
   "id": "38d7fa95-69f2-40c6-a35a-1e4bd0923842",
   "metadata": {},
   "source": [
    "## 3.Basic Analyses"
   ]
  },
  {
   "cell_type": "code",
   "execution_count": null,
   "id": "eecfc33b-780e-43fa-8515-c34555b46e50",
   "metadata": {},
   "outputs": [],
   "source": []
  },
  {
   "cell_type": "code",
   "execution_count": null,
   "id": "46d643ad-8fa1-43d7-8645-76e0be91be5c",
   "metadata": {},
   "outputs": [],
   "source": []
  },
  {
   "cell_type": "code",
   "execution_count": null,
   "id": "32c2732f-115b-44ca-9572-35da5e06cd9e",
   "metadata": {},
   "outputs": [],
   "source": []
  }
 ],
 "metadata": {
  "kernelspec": {
   "display_name": "Python 3 (ipykernel)",
   "language": "python",
   "name": "python3"
  },
  "language_info": {
   "codemirror_mode": {
    "name": "ipython",
    "version": 3
   },
   "file_extension": ".py",
   "mimetype": "text/x-python",
   "name": "python",
   "nbconvert_exporter": "python",
   "pygments_lexer": "ipython3",
   "version": "3.12.8"
  }
 },
 "nbformat": 4,
 "nbformat_minor": 5
}
